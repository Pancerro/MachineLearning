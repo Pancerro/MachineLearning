{
  "nbformat": 4,
  "nbformat_minor": 0,
  "metadata": {
    "colab": {
      "name": "Untitled11.ipynb",
      "provenance": [],
      "authorship_tag": "ABX9TyPdcOxMYPRfbpYf6mLfm1ow",
      "include_colab_link": true
    },
    "kernelspec": {
      "name": "python3",
      "display_name": "Python 3"
    }
  },
  "cells": [
    {
      "cell_type": "markdown",
      "metadata": {
        "id": "view-in-github",
        "colab_type": "text"
      },
      "source": [
        "<a href=\"https://colab.research.google.com/github/Pancerro/MachineLearning/blob/master/lab7/lab7.ipynb\" target=\"_parent\"><img src=\"https://colab.research.google.com/assets/colab-badge.svg\" alt=\"Open In Colab\"/></a>"
      ]
    },
    {
      "cell_type": "code",
      "metadata": {
        "colab": {
          "base_uri": "https://localhost:8080/",
          "height": 1000
        },
        "id": "ggel2EXBY9OI",
        "outputId": "86ef20db-9949-4097-b818-c1686e1f1505"
      },
      "source": [
        "\n",
        "import numpy as np \n",
        "from matplotlib import pyplot as plt \n",
        "\n",
        "# Sigmoid Function - funckja aktywacji\n",
        "def sigmoid(z): \n",
        "\treturn 1 / (1 + np.exp(-z)) \n",
        "\n",
        "# Inicja parametrow sieci neutronowej\n",
        "# Inicjacja wag\n",
        "# Bias inicjacja =  0 \n",
        "def initializeParameters(inputFeatures, neuronsInHiddenLayers, outputFeatures): \n",
        "\tW1 = np.random.randn(neuronsInHiddenLayers, inputFeatures) \n",
        "\tW2 = np.random.randn(outputFeatures, neuronsInHiddenLayers) \n",
        "\tb1 = np.zeros((neuronsInHiddenLayers, 1)) \n",
        "\tb2 = np.zeros((outputFeatures, 1)) \n",
        "\tprint(\"Wagi i biesy: \", W1,W2,b1,b2)\n",
        "\tparameters = {\"W1\" : W1, \"b1\": b1, \n",
        "\t\t\t\t\"W2\" : W2, \"b2\": b2} \n",
        "\treturn parameters \n",
        "\n",
        "# Forward Propagation \n",
        "def forwardPropagation(X, Y, parameters): \n",
        "\tm = X.shape[1] \n",
        "\tW1 = parameters[\"W1\"] \n",
        "\tW2 = parameters[\"W2\"] \n",
        "\tb1 = parameters[\"b1\"] \n",
        "\tb2 = parameters[\"b2\"] \n",
        "\n",
        "\tZ1 = np.dot(W1, X) + b1 \n",
        "\tA1 = sigmoid(Z1) \n",
        "\tZ2 = np.dot(W2, A1) + b2 \n",
        "\tA2 = sigmoid(Z2) \n",
        "    \n",
        "\tcache = (Z1, A1, W1, b1, Z2, A2, W2, b2) \n",
        "\tlogprobs = np.multiply(np.log(A2), Y) + np.multiply(np.log(1 - A2), (1 - Y)) \n",
        "\tcost = -np.sum(logprobs) / m \n",
        "\treturn cost, cache, A2 \n",
        "\n",
        "# Backward Propagation \n",
        "def backwardPropagation(X, Y, cache): \n",
        "\tm = X.shape[1] \n",
        "\t(Z1, A1, W1, b1, Z2, A2, W2, b2) = cache \n",
        "\t\n",
        "\tdZ2 = A2 - Y \n",
        "\tdW2 = np.dot(dZ2, A1.T) / m \n",
        "\tdb2 = np.sum(dZ2, axis = 1, keepdims = True) \n",
        "\t\n",
        "\tdA1 = np.dot(W2.T, dZ2) \n",
        "\tdZ1 = np.multiply(dA1, A1 * (1- A1)) \n",
        "\tdW1 = np.dot(dZ1, X.T) / m \n",
        "\tdb1 = np.sum(dZ1, axis = 1, keepdims = True) / m \n",
        "\t\n",
        "\tgradients = {\"dZ2\": dZ2, \"dW2\": dW2, \"db2\": db2, \n",
        "\t\t\t\t\"dZ1\": dZ1, \"dW1\": dW1, \"db1\": db1} \n",
        "\treturn gradients \n",
        "\n",
        "# Nowe wartosci wag\n",
        "def updateParameters(parameters, gradients, learningRate): \n",
        "\tparameters[\"W1\"] = parameters[\"W1\"] - learningRate * gradients[\"dW1\"] \n",
        "\tparameters[\"W2\"] = parameters[\"W2\"] - learningRate * gradients[\"dW2\"] \n",
        "\tparameters[\"b1\"] = parameters[\"b1\"] - learningRate * gradients[\"db1\"] \n",
        "\tparameters[\"b2\"] = parameters[\"b2\"] - learningRate * gradients[\"db2\"] \n",
        "\treturn parameters \n",
        "\n",
        "#  AND\n",
        "print(\"AND\")\n",
        "X = np.array([[0, 0, 1, 1], [0, 1, 0, 1]]) # AND input \n",
        "Y = np.array([[0, 0, 0, 1]]) # AND output \n",
        "\n",
        "# Parametry modelu\n",
        "neuronsInHiddenLayers = 1  \n",
        "inputFeatures = X.shape[0]\n",
        "outputFeatures = Y.shape[0] \n",
        "parameters = initializeParameters(inputFeatures, neuronsInHiddenLayers, outputFeatures) \n",
        "epoch = 100000\n",
        "learningRate = 0.01\n",
        "losses = np.zeros((epoch, 1)) \n",
        "\n",
        "for i in range(epoch): \n",
        "\tlosses[i, 0], cache, A2 = forwardPropagation(X, Y, parameters) \n",
        "\tgradients = backwardPropagation(X, Y, cache) \n",
        "\tparameters = updateParameters(parameters, gradients, learningRate) \n",
        "\n",
        "plt.figure() \n",
        "plt.plot(losses) \n",
        "plt.xlabel(\"EPOCHS\") \n",
        "plt.ylabel(\"Loss value\") \n",
        "plt.show() \n",
        "\n",
        "# Testing \n",
        "X = np.array([[1, 1, 0, 0], [0, 1, 0, 1]]) # AND input \n",
        "cost,_, A2 = forwardPropagation(X, Y, parameters)\n",
        "prediction = (A2 > 0.5) * 1.0\n",
        "print(\"Input: \", X)\n",
        "print(\"Output: \",prediction) \n",
        "\n",
        "#OR\n",
        "print(\"OR\")\n",
        "X = np.array([[0, 0, 1, 1], [0, 1, 0, 1]]) # OR input \n",
        "Y = np.array([[0, 1, 1, 1]]) # OR output \n",
        "  \n",
        "# Parametry modelu\n",
        "neuronsInHiddenLayers = 1  \n",
        "inputFeatures = X.shape[0]  \n",
        "outputFeatures = Y.shape[0]\n",
        "parameters = initializeParameters(inputFeatures, neuronsInHiddenLayers, outputFeatures) \n",
        "epoch = 100000\n",
        "learningRate = 0.01\n",
        "losses = np.zeros((epoch, 1)) \n",
        "  \n",
        "for i in range(epoch): \n",
        "    losses[i, 0], cache, A2 = forwardPropagation(X, Y, parameters) \n",
        "    gradients = backwardPropagation(X, Y, cache) \n",
        "    parameters = updateParameters(parameters, gradients, learningRate) \n",
        "\n",
        "plt.figure() \n",
        "plt.plot(losses) \n",
        "plt.xlabel(\"EPOCHS\") \n",
        "plt.ylabel(\"Loss value\") \n",
        "plt.show() \n",
        "  \n",
        "# Testing \n",
        "X = np.array([[1, 1, 0, 0], [0, 1, 0, 1]]) # OR input \n",
        "cost, _, A2 = forwardPropagation(X, Y, parameters) \n",
        "prediction = (A2 > 0.5) * 1.0\n",
        "print(\"Input: \", X)\n",
        "print(\"Output: \",prediction)\n",
        "print(\"NOT\")\n",
        "def unitStep(v): \n",
        "    if v >= 0: \n",
        "        return 1\n",
        "    else: \n",
        "        return 0\n",
        "  \n",
        "def perceptronModel(x, w, b): \n",
        "    v = np.dot(w, x) + b \n",
        "    y = unitStep(v) \n",
        "    return y \n",
        "  \n",
        "# NOT Logic Function \n",
        "# w = -1, b = 0.5 \n",
        "def NOT_logicFunction(x): \n",
        "    w = -1\n",
        "    b = 0.5\n",
        "    print(w,b)\n",
        "    return perceptronModel(x, w, b) \n",
        "  \n",
        "# testing the Perceptron Model \n",
        "test1 = np.array(1) \n",
        "test2 = np.array(0) \n",
        " \n",
        "print(\"NOT({}) = {}\".format(1, NOT_logicFunction(test1))) \n",
        "print(\"NOT({}) = {}\".format(0, NOT_logicFunction(test2))) \n",
        "\n",
        "\n",
        "# XOR \n",
        "print(\"XOR\")\n",
        "X = np.array([[0, 0, 1, 1], [0, 1, 0, 1]]) # XOR input \n",
        "Y = np.array([[0, 1, 1, 0]]) # XOR output \n",
        "  \n",
        "# Parametry modelu\n",
        "neuronsInHiddenLayers = 1 \n",
        "inputFeatures = X.shape[0] \n",
        "outputFeatures = Y.shape[0]  \n",
        "parameters = initializeParameters(inputFeatures, neuronsInHiddenLayers, outputFeatures) \n",
        "epoch = 100000\n",
        "learningRate = 0.01\n",
        "losses = np.zeros((epoch, 1)) \n",
        "  \n",
        "for i in range(epoch): \n",
        "    losses[i, 0], cache, A2 = forwardPropagation(X, Y, parameters) \n",
        "    gradients = backwardPropagation(X, Y, cache) \n",
        "    parameters = updateParameters(parameters, gradients, learningRate) \n",
        "\n",
        "plt.figure() \n",
        "plt.plot(losses) \n",
        "plt.xlabel(\"EPOCHS\") \n",
        "plt.ylabel(\"Loss value\") \n",
        "plt.show() \n",
        "  \n",
        "X = np.array([[1, 1, 0, 0], [0, 1, 0, 1]]) # XOR input \n",
        "cost, _, A2 = forwardPropagation(X, Y, parameters) \n",
        "prediction = (A2 > 0.5) * 1.0\n",
        "print(\"Input: \", X)\n",
        "print(\"Output: \",prediction)\n",
        "\n",
        "\n",
        "# XNOR\n",
        "print(\"XNOR\")\n",
        "X = np.array([[0, 0, 1, 1], [0, 1, 0, 1]]) # XNOR input \n",
        "Y = np.array([[1, 0, 0, 1]]) # XNOR output \n",
        "  \n",
        "# Parametry Modelu \n",
        "neuronsInHiddenLayers = 1\n",
        "inputFeatures = X.shape[0]\n",
        "outputFeatures = Y.shape[0]\n",
        "parameters = initializeParameters(inputFeatures, neuronsInHiddenLayers, outputFeatures) \n",
        "epoch = 100000\n",
        "learningRate = 0.01\n",
        "losses = np.zeros((epoch, 1)) \n",
        "  \n",
        "for i in range(epoch): \n",
        "    losses[i, 0], cache, A2 = forwardPropagation(X, Y, parameters) \n",
        "    gradients = backwardPropagation(X, Y, cache) \n",
        "    parameters = updateParameters(parameters, gradients, learningRate) \n",
        "  \n",
        "plt.figure() \n",
        "plt.plot(losses) \n",
        "plt.xlabel(\"EPOCHS\") \n",
        "plt.ylabel(\"Loss value\") \n",
        "plt.show() \n",
        "  \n",
        "# Testing \n",
        "X = np.array([[1, 1, 0, 0], [0, 1, 0, 1]]) # XNOR input \n",
        "cost, _, A2 = forwardPropagation(X, Y, parameters) \n",
        "prediction = (A2 > 0.5) * 1.0\n",
        "print(\"Input: \", X)\n",
        "print(\"Output: \",prediction) "
      ],
      "execution_count": 51,
      "outputs": [
        {
          "output_type": "stream",
          "text": [
            "AND\n",
            "Wagi i biesy:  [[0.8544429  1.50685064]] [[0.52333394]] [[0.]] [[0.]]\n"
          ],
          "name": "stdout"
        },
        {
          "output_type": "display_data",
          "data": {
            "image/png": "[encoded data removed]",
            "text/plain": [
              "<Figure size 432x288 with 1 Axes>"
            ]
          },
          "metadata": {
            "tags": [],
            "needs_background": "light"
          }
        },
        {
          "output_type": "stream",
          "text": [
            "Input:  [[1 1 0 0]\n",
            " [0 1 0 1]]\n",
            "Output:  [[0. 1. 0. 0.]]\n",
            "OR\n",
            "Wagi i biesy:  [[0.41531125 0.58338753]] [[0.75946264]] [[0.]] [[0.]]\n"
          ],
          "name": "stdout"
        },
        {
          "output_type": "display_data",
          "data": {
            "image/png": "[encoded data removed]",
            "text/plain": [
              "<Figure size 432x288 with 1 Axes>"
            ]
          },
          "metadata": {
            "tags": [],
            "needs_background": "light"
          }
        },
        {
          "output_type": "stream",
          "text": [
            "Input:  [[1 1 0 0]\n",
            " [0 1 0 1]]\n",
            "Output:  [[1. 1. 0. 1.]]\n",
            "NOT\n",
            "-1 0.5\n",
            "NOT(1) = 0\n",
            "-1 0.5\n",
            "NOT(0) = 1\n",
            "XOR\n",
            "Wagi i biesy:  [[0.41269018 1.16783683]] [[-1.21248978]] [[0.]] [[0.]]\n"
          ],
          "name": "stdout"
        },
        {
          "output_type": "display_data",
          "data": {
            "image/png": "[encoded data removed]",
            "text/plain": [
              "<Figure size 432x288 with 1 Axes>"
            ]
          },
          "metadata": {
            "tags": [],
            "needs_background": "light"
          }
        },
        {
          "output_type": "stream",
          "text": [
            "Input:  [[1 1 0 0]\n",
            " [0 1 0 1]]\n",
            "Output:  [[1. 0. 0. 0.]]\n",
            "XNOR\n",
            "Wagi i biesy:  [[-2.15670526 -0.89866762]] [[-1.70673775]] [[0.]] [[0.]]\n"
          ],
          "name": "stdout"
        },
        {
          "output_type": "display_data",
          "data": {
            "image/png": "[encoded data removed]",
            "text/plain": [
              "<Figure size 432x288 with 1 Axes>"
            ]
          },
          "metadata": {
            "tags": [],
            "needs_background": "light"
          }
        },
        {
          "output_type": "stream",
          "text": [
            "Input:  [[1 1 0 0]\n",
            " [0 1 0 1]]\n",
            "Output:  [[1. 1. 1. 0.]]\n"
          ],
          "name": "stdout"
        }
      ]
    },
    {
      "cell_type": "code",
      "metadata": {
        "id": "GUZ-OSHDvS7r"
      },
      "source": [
        ""
      ],
      "execution_count": null,
      "outputs": []
    }
  ]
}