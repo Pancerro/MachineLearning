{
  "nbformat": 4,
  "nbformat_minor": 0,
  "metadata": {
    "colab": {
      "name": "Zad4.ipynb",
      "provenance": [],
      "authorship_tag": "ABX9TyM8Fi5NKa46n098WZvmBI+m",
      "include_colab_link": true
    },
    "kernelspec": {
      "name": "python3",
      "display_name": "Python 3"
    }
  },
  "cells": [
    {
      "cell_type": "markdown",
      "metadata": {
        "id": "view-in-github",
        "colab_type": "text"
      },
      "source": [
        "<a href=\"https://colab.research.google.com/github/Pancerro/MachineLearning/blob/master/lab4/lab4.ipynb\" target=\"_parent\"><img src=\"https://colab.research.google.com/assets/colab-badge.svg\" alt=\"Open In Colab\"/></a>"
      ]
    },
    {
      "cell_type": "code",
      "metadata": {
        "id": "B8v0lTkueyPI",
        "colab": {
          "base_uri": "https://localhost:8080/"
        },
        "outputId": "8086372d-b60e-45d1-dafe-6db9ac909bb8"
      },
      "source": [
        "from openpyxl import Workbook\n",
        "from google.colab import drive\n",
        "import requests\n",
        "from bs4 import BeautifulSoup\n",
        "from random import choices\n",
        "from string import ascii_lowercase\n",
        "drive.mount('/content/gdrive', force_remount=True)\n",
        "test_filename = 'Lawecki_175IC.xlsx'\n",
        "wb = Workbook()\n",
        "wb.create_sheet(\"Linki\")\n",
        "wb.create_sheet(\"Filmweb\")\n",
        "ws = wb.active\n",
        "ws.title=\"Gielda\"\n",
        "ws[\"A1\"] = \"Skrot\"\n",
        "ws[\"B1\"] = \"Kurs\"\n",
        "ws[\"C1\"] = \"Zmiana kursu\"\n",
        "ws[\"D1\"] = \"Transakcja\"\n",
        "\n",
        "i = 0\n",
        "exchange_list = []\n",
        "save_exchange_list = []\n",
        "while i < 1:\n",
        "  random_letter = \"\".join(choices(ascii_lowercase, k=3))\n",
        "  p = {\"s\": random_letter}\n",
        "  odpowiedz = requests.get(\"http://stooq.pl/q/\", params=p)\n",
        "  soup = BeautifulSoup(odpowiedz.text, 'html.parser')\n",
        "  znacznik_kurs = soup.find(\"span\", id=f\"aq_{random_letter}_c2\")\n",
        "  if znacznik_kurs!=None:\n",
        "    exchange_list.append(random_letter)\n",
        "    i += 1\n",
        "# kurs\n",
        "# podejście 1: po id\n",
        "for spolka in exchange_list:\n",
        "  p = {\"s\": spolka}\n",
        "  odpowiedz = requests.get(\"http://stooq.pl/q/\", params=p)\n",
        "  soup = BeautifulSoup(odpowiedz.text, 'html.parser')\n",
        "  znacznik_kurs = soup.find(\"span\", id=f\"aq_{spolka}_c2\")\n",
        "  kurs = float(znacznik_kurs.text)\n",
        "#zmiana kursu\n",
        "  znacznik_zmiana_bezwzgledna = soup.find(\"span\", id=f\"aq_{spolka}_m2\")\n",
        "  znacznik_zmiana_wzgledna = soup.find(\"span\", id=f\"aq_{spolka}_m3\")\n",
        "  zmiana_bezwzgledna = float(znacznik_zmiana_bezwzgledna.text)\n",
        "  zmiana_wzgledna = float(znacznik_zmiana_wzgledna.text[1:-2])/100\n",
        "# transakcje\n",
        "  znacznik_transakcje =  soup.find(\"span\", id=f\"aq_{spolka}_n1\")\n",
        "  transakcje = float(znacznik_transakcje.text)\n",
        "  save_exchange_list.append([kurs,zmiana_bezwzgledna,transakcje])\n",
        "\n",
        "for i in range(1):\n",
        "  ws[f\"A{i+2}\"] = exchange_list[i]\n",
        "  ws[f\"B{i+2}\"] = save_exchange_list[i][0]\n",
        "  ws[f\"C{i+2}\"] = save_exchange_list[i][1]\n",
        "  ws[f\"D{i+2}\"] = save_exchange_list[i][2]\n",
        "\n",
        "\n",
        "\n",
        "ws2 = wb[\"Linki\"]\n",
        "ws2[\"A1\"] = \"Link\"\n",
        "odpowiedz = requests.get(\"https://www.filmweb.pl/film/Jojo+Rabbit-2019-817417\")\n",
        "soup = BeautifulSoup(odpowiedz.text, 'html.parser')\n",
        "j=2\n",
        "for link in soup.find_all('a', href=True):\n",
        "    ws2[f\"A{j}\"] = link.get('href')\n",
        "    j = j +1\n",
        "\n",
        "ws3 = wb[\"Filmweb\"]\n",
        "ws3[\"A1\"] = \"Tytul filmu\"\n",
        "ws3[\"B1\"] = \"Rezyser\"\n",
        "ws3[\"C1\"] = \"Data premiery\"\n",
        "ws3[\"D1\"] = \"Boxoffice\"\n",
        "ws3[\"E1\"] = \"Ocena\"\n",
        "url = 'https://www.filmweb.pl/film/Jojo+Rabbit-2019-817417'\n",
        "odpowiedz = requests.get(url)\n",
        "soup = BeautifulSoup(odpowiedz.text, 'html.parser')\n",
        "ocena = float(soup.find(\"span\", itemprop=\"ratingValue\").text.replace(\",\", \".\"))\n",
        "rezyseria = soup.find(\"span\", itemprop=\"name\").text\n",
        "oryginalny_tytul = soup.find(\"span\", itemprop=\"url\").text\n",
        "base = 'https://www.filmweb.pl'\n",
        "idxStart = len(base)\n",
        "splitUrl = f'{url[idxStart:]}/dates'\n",
        "premiera = soup.find('a', href=splitUrl)\n",
        "boxoffice_section = soup.find('div', class_='filmOtherInfoSection__group')\n",
        "boxoffice = boxoffice_section.find('div', class_='filmInfo__info')\n",
        "ws3[\"A2\"] = oryginalny_tytul\n",
        "ws3[\"B2\"] = rezyseria\n",
        "ws3[\"C2\"] = premiera.text\n",
        "ws3[\"D2\"] = boxoffice.text\n",
        "ws3[\"E2\"] = ocena\n",
        "\n",
        "wb.save('/content/gdrive/My Drive/'+test_filename)\n"
      ],
      "execution_count": 10,
      "outputs": [
        {
          "output_type": "stream",
          "text": [
            "Mounted at /content/gdrive\n",
            "  8 września 2019 (świat)  \n",
            "$90 335 025 na świecie$33 370 906 w USA$56 964 119 poza USA\n"
          ],
          "name": "stdout"
        }
      ]
    }
  ]
}